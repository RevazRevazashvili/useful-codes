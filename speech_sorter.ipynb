{
  "nbformat": 4,
  "nbformat_minor": 0,
  "metadata": {
    "colab": {
      "provenance": [],
      "authorship_tag": "ABX9TyNJcUXPa1bXYCEdwoKRot5G",
      "include_colab_link": true
    },
    "kernelspec": {
      "name": "python3",
      "display_name": "Python 3"
    },
    "language_info": {
      "name": "python"
    }
  },
  "cells": [
    {
      "cell_type": "markdown",
      "metadata": {
        "id": "view-in-github",
        "colab_type": "text"
      },
      "source": [
        "<a href=\"https://colab.research.google.com/github/RevazRevazashvili/useful-codes/blob/main/speech_sorter.ipynb\" target=\"_parent\"><img src=\"https://colab.research.google.com/assets/colab-badge.svg\" alt=\"Open In Colab\"/></a>"
      ]
    },
    {
      "cell_type": "code",
      "source": [
        "!pip install streamlit"
      ],
      "metadata": {
        "id": "mzqCsnz2xOGD"
      },
      "execution_count": null,
      "outputs": []
    },
    {
      "cell_type": "code",
      "source": [
        "import pandas as pd\n",
        "import numpy as np\n",
        "import streamlit as st"
      ],
      "metadata": {
        "id": "d5_WCswjZN_8"
      },
      "execution_count": 23,
      "outputs": []
    },
    {
      "cell_type": "code",
      "source": [
        "names = [\n",
        "    'კომენტარი',\n",
        "    'კლასი',\n",
        "    'hate_speech_prob',\n",
        "    'undecided',\n",
        "    'non-hate_speech_prob',\n",
        "    'influential_words',\n",
        "    'example'\n",
        "]\n",
        "df = pd.DataFrame(columns = names)"
      ],
      "metadata": {
        "id": "ythwU4_7qvTw"
      },
      "execution_count": 19,
      "outputs": []
    },
    {
      "cell_type": "code",
      "source": [
        "hate_speech = []\n",
        "non_hate_speech = []\n",
        "undefined_speech = []\n",
        "\n",
        "def isHate(text, prob):\n",
        "  if prob in np.arange(0, 0.35):\n",
        "    non_hate_speech.append(text)\n",
        "  if prob in np.arange(0.35, 0.7):\n",
        "    undefined_speech.append(text)\n",
        "  if prob in np.arange(0.7, 1.0):\n",
        "    hate_speech.append(text)\n",
        "  return hate_speech, non_hate_speech, undefined_speech"
      ],
      "metadata": {
        "id": "maIdgxEUaZaM"
      },
      "execution_count": 21,
      "outputs": []
    },
    {
      "cell_type": "code",
      "source": [
        "st.download_button(\"download csv\", data=df.to_csv())"
      ],
      "metadata": {
        "colab": {
          "base_uri": "https://localhost:8080/"
        },
        "id": "N9rIWN2gra-P",
        "outputId": "74f54ec1-dcba-4bf7-e85e-131f90115ce0"
      },
      "execution_count": 25,
      "outputs": [
        {
          "output_type": "execute_result",
          "data": {
            "text/plain": [
              "False"
            ]
          },
          "metadata": {},
          "execution_count": 25
        }
      ]
    }
  ]
}