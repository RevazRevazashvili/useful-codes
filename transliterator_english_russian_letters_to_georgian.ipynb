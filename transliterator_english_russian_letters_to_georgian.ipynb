{
  "nbformat": 4,
  "nbformat_minor": 0,
  "metadata": {
    "colab": {
      "provenance": [],
      "authorship_tag": "ABX9TyNhakwA4vZjazwpY+G97Fx+",
      "include_colab_link": true
    },
    "kernelspec": {
      "name": "python3",
      "display_name": "Python 3"
    },
    "language_info": {
      "name": "python"
    }
  },
  "cells": [
    {
      "cell_type": "markdown",
      "metadata": {
        "id": "view-in-github",
        "colab_type": "text"
      },
      "source": [
        "<a href=\"https://colab.research.google.com/github/RevazRevazashvili/useful-codes/blob/main/transliterator_english_russian_letters_to_georgian.ipynb\" target=\"_parent\"><img src=\"https://colab.research.google.com/assets/colab-badge.svg\" alt=\"Open In Colab\"/></a>"
      ]
    },
    {
      "cell_type": "code",
      "execution_count": 1,
      "metadata": {
        "id": "PwepqPzI4PZe"
      },
      "outputs": [],
      "source": [
        "def transliterate_to_georgian(text):\n",
        "    transliteration_dict = {\n",
        "        'a': 'ა',\n",
        "        'b': 'ბ',\n",
        "        'g': 'გ',\n",
        "        'd': 'დ',\n",
        "        'e': 'ე',\n",
        "        'v': 'ვ',\n",
        "        'z': 'ზ',\n",
        "        't': 'თ',\n",
        "        'i': 'ი',\n",
        "        'k': 'კ',\n",
        "        'l': 'ლ',\n",
        "        'm': 'მ',\n",
        "        'n': 'ნ',\n",
        "        'o': 'ო',\n",
        "        'p': 'პ',\n",
        "        'zh': 'ჟ',\n",
        "        'r': 'რ',\n",
        "        's': 'ს',\n",
        "        'T': 'ტ',\n",
        "        'u': 'უ',\n",
        "        'f': 'ფ',\n",
        "        'q': 'ქ',\n",
        "        'gh': 'ღ',\n",
        "        'y': 'ყ',\n",
        "        'sh': 'შ',\n",
        "        'ch': 'ჩ',\n",
        "        'ts': 'ც',\n",
        "        'c': 'ც',\n",
        "        'dz': 'ძ',\n",
        "        'ts': 'წ',\n",
        "        'w': 'წ',\n",
        "        'ch': 'ჭ',\n",
        "        'kh': 'ხ',\n",
        "        'x': 'ხ',\n",
        "        'j': 'ჯ',\n",
        "        'h': 'ჰ',\n",
        "        'а': 'ა',\n",
        "        'б': 'ბ',\n",
        "        'г': 'გ',\n",
        "        'д': 'დ',\n",
        "        'е': 'ე',\n",
        "        'в': 'ვ',\n",
        "        'з': 'ზ',\n",
        "        'т': 'თ',\n",
        "        'и': 'ი',\n",
        "        'к': 'კ',\n",
        "        'л': 'ლ',\n",
        "        'м': 'მ',\n",
        "        'н': 'ნ',\n",
        "        'о': 'ო',\n",
        "        'п': 'პ',\n",
        "        'ж': 'ჟ',\n",
        "        'р': 'რ',\n",
        "        'с': 'ს',\n",
        "        'Т': 'ტ',\n",
        "        'у': 'უ',\n",
        "        'ф': 'ფ',\n",
        "        'К': 'ქ',\n",
        "        'Г': 'ღ',\n",
        "        'К': 'ყ',\n",
        "        'ш': 'შ',\n",
        "        'ч': 'ჩ',\n",
        "        'ц': 'ც',\n",
        "        'дь': 'ძ',\n",
        "        'ть': 'წ',\n",
        "        'Ч': 'ჭ',\n",
        "        'х': 'ხ',\n",
        "        'дж': 'ჯ',\n",
        "    }\n",
        "\n",
        "    georgian_text = ''\n",
        "    for char in text.lower():\n",
        "        if char in transliteration_dict:\n",
        "            georgian_text += transliteration_dict[char]\n",
        "        else:\n",
        "            georgian_text += char\n",
        "\n",
        "    return georgian_text"
      ]
    },
    {
      "cell_type": "code",
      "source": [],
      "metadata": {
        "id": "bmuAZt-8G9lW"
      },
      "execution_count": null,
      "outputs": []
    }
  ]
}