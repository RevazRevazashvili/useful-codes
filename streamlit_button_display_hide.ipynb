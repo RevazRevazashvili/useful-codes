{
  "nbformat": 4,
  "nbformat_minor": 0,
  "metadata": {
    "colab": {
      "provenance": [],
      "authorship_tag": "ABX9TyOPwW3916/sScg1IaOelBNh",
      "include_colab_link": true
    },
    "kernelspec": {
      "name": "python3",
      "display_name": "Python 3"
    },
    "language_info": {
      "name": "python"
    }
  },
  "cells": [
    {
      "cell_type": "markdown",
      "metadata": {
        "id": "view-in-github",
        "colab_type": "text"
      },
      "source": [
        "<a href=\"https://colab.research.google.com/github/RevazRevazashvili/useful-codes/blob/main/streamlit_button_display_hide.ipynb\" target=\"_parent\"><img src=\"https://colab.research.google.com/assets/colab-badge.svg\" alt=\"Open In Colab\"/></a>"
      ]
    },
    {
      "cell_type": "code",
      "source": [
        "!pip install streamlit"
      ],
      "metadata": {
        "id": "hp7oyYB1dHVR"
      },
      "execution_count": null,
      "outputs": []
    },
    {
      "cell_type": "code",
      "source": [
        "import streamlit as st\n",
        "\n",
        "myKey = 'my_key'\n",
        "if myKey not in st.session_state:\n",
        "    st.session_state[myKey] = False\n",
        "\n",
        "if st.session_state[myKey]:\n",
        "    myBtn = st.button('დამალე ტექსტი')\n",
        "    st.write('hello')\n",
        "    st.session_state[myKey] = False\n",
        "else:\n",
        "    myBtn = st.button('მაჩვენე ტექსტი')\n",
        "    st.session_state[myKey] = True"
      ],
      "metadata": {
        "id": "0ZKROWx7dduN"
      },
      "execution_count": null,
      "outputs": []
    }
  ]
}